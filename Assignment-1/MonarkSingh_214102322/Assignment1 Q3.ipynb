{
 "cells": [
  {
   "cell_type": "code",
   "execution_count": 4,
   "id": "949a175b",
   "metadata": {},
   "outputs": [
    {
     "name": "stdout",
     "output_type": "stream",
     "text": [
      "Enter a number-5\n",
      "The Factorial of -5 is Not Defined\n"
     ]
    }
   ],
   "source": [
    "# Assignment 1 Ques 3\n",
    "\n",
    "num=int(input(\"Enter a number\"))   # User input the number\n",
    "\n",
    "# Define a function to compute factorial of a number\n",
    "def fact(num):      \n",
    "    factorial=1\n",
    "    while num>1:\n",
    "        factorial=factorial*num\n",
    "        num=num-1\n",
    "    return factorial\n",
    "    \n",
    "answer=fact(num)   # Calling the function\n",
    "\n",
    "if num>=0:\n",
    "    print(f\"The Factorial of {num} is {answer}\")        # Printing the answer\n",
    "else:                                                   # Factorial of a negative no is not defined\n",
    "    print(f\"The Factorial of {num} is Not Defined\")\n"
   ]
  },
  {
   "cell_type": "code",
   "execution_count": null,
   "id": "bae9aae4",
   "metadata": {},
   "outputs": [],
   "source": []
  },
  {
   "cell_type": "code",
   "execution_count": null,
   "id": "9631066b",
   "metadata": {},
   "outputs": [],
   "source": []
  }
 ],
 "metadata": {
  "kernelspec": {
   "display_name": "Python 3",
   "language": "python",
   "name": "python3"
  },
  "language_info": {
   "codemirror_mode": {
    "name": "ipython",
    "version": 3
   },
   "file_extension": ".py",
   "mimetype": "text/x-python",
   "name": "python",
   "nbconvert_exporter": "python",
   "pygments_lexer": "ipython3",
   "version": "3.8.8"
  }
 },
 "nbformat": 4,
 "nbformat_minor": 5
}
