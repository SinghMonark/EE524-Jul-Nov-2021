{
 "cells": [
  {
   "cell_type": "code",
   "execution_count": 13,
   "id": "5dd21907",
   "metadata": {},
   "outputs": [
    {
     "name": "stdout",
     "output_type": "stream",
     "text": [
      "Enter no of Rows m 3\n",
      "Enter no of Columns n 2\n",
      "\n",
      "A Matrix having 3 rows and 2 columns is:\n",
      "\n",
      "[1, 0]\n",
      "[5, 3]\n",
      "[5, -2]\n"
     ]
    }
   ],
   "source": [
    "# Assignment 1 Ques 8\n",
    "\n",
    "import random\n",
    "\n",
    "# User input no of rows and columns of matrix\n",
    "\n",
    "m=int(input(\"Enter no of Rows m \"))\n",
    "n=int(input(\"Enter no of Columns n \"))\n",
    "\n",
    "# Initialising a matrix with zeros\n",
    "\n",
    "matrix = [[0 for i in range(n)] for j in range(m)]\n",
    "\n",
    "# Using for loop to assign random values to matrix in range [-2,5]\n",
    "for i in range(m):\n",
    "    for j in range(n):\n",
    "        matrix[i][j]=random.randint(-2,5)\n",
    "        \n",
    "# Printing the matrix\n",
    "print(f\"\\nA Matrix having {m} rows and {n} columns is:\\n\")\n",
    "for k in matrix:\n",
    "    print(k)\n"
   ]
  },
  {
   "cell_type": "code",
   "execution_count": null,
   "id": "9bee81af",
   "metadata": {},
   "outputs": [],
   "source": []
  }
 ],
 "metadata": {
  "kernelspec": {
   "display_name": "Python 3",
   "language": "python",
   "name": "python3"
  },
  "language_info": {
   "codemirror_mode": {
    "name": "ipython",
    "version": 3
   },
   "file_extension": ".py",
   "mimetype": "text/x-python",
   "name": "python",
   "nbconvert_exporter": "python",
   "pygments_lexer": "ipython3",
   "version": "3.8.8"
  }
 },
 "nbformat": 4,
 "nbformat_minor": 5
}
