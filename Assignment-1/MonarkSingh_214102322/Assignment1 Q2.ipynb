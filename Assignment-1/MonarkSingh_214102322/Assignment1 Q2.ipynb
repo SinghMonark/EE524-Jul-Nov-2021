{
 "cells": [
  {
   "cell_type": "code",
   "execution_count": 4,
   "id": "2fdb8cee",
   "metadata": {},
   "outputs": [
    {
     "name": "stdout",
     "output_type": "stream",
     "text": [
      "Enter first number 4\n",
      "Enter second number 2\n",
      "4+2=6\n",
      "4-2=2\n",
      "4*2=8\n",
      "4/2=2.0\n",
      "4%2=0\n"
     ]
    }
   ],
   "source": [
    "# Assignment 1 Ques 2\n",
    "\n",
    "a=int(input(\"Enter first number \"))    # User input first number\n",
    "b=int(input(\"Enter second number \"))   # User input second number\n",
    "\n",
    "c=a+b             # Performing Addition\n",
    "d=a-b             # Performing Subtraction\n",
    "e=a*b             # Performing Multiplication\n",
    "f=round(a/b,2)    # Performing Division\n",
    "g=a%b             # Performing Modulus\n",
    "\n",
    "print(f\"{a}+{b}={c}\")    # Printing the result using print function\n",
    "print(f\"{a}-{b}={d}\")\n",
    "print(f\"{a}*{b}={e}\")\n",
    "print(f\"{a}/{b}={f}\")\n",
    "print(f\"{a}%{b}={g}\")\n"
   ]
  },
  {
   "cell_type": "code",
   "execution_count": null,
   "id": "88b90c5e",
   "metadata": {},
   "outputs": [],
   "source": []
  }
 ],
 "metadata": {
  "kernelspec": {
   "display_name": "Python 3",
   "language": "python",
   "name": "python3"
  },
  "language_info": {
   "codemirror_mode": {
    "name": "ipython",
    "version": 3
   },
   "file_extension": ".py",
   "mimetype": "text/x-python",
   "name": "python",
   "nbconvert_exporter": "python",
   "pygments_lexer": "ipython3",
   "version": "3.8.8"
  }
 },
 "nbformat": 4,
 "nbformat_minor": 5
}
