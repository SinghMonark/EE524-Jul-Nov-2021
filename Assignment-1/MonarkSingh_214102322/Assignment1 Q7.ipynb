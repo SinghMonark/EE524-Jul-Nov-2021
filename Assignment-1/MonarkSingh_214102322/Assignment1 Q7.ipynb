{
 "cells": [
  {
   "cell_type": "code",
   "execution_count": 4,
   "id": "1fa36ec8",
   "metadata": {},
   "outputs": [
    {
     "name": "stdout",
     "output_type": "stream",
     "text": [
      "Unsorted array:\n",
      "\n",
      "[ 6  9  1  7  3 15 12 26 19 34 52 33 47 62 22]\n",
      "\n",
      "Sorted Array:\n",
      "\n",
      "[ 1  3  6  7  9 12 15 19 22 26 33 34 47 52 62]\n",
      "\n",
      "Sorted indices:\n",
      "\n",
      "[ 2  4  0  3  1  6  5  8 14  7 11  9 12 10 13]\n"
     ]
    }
   ],
   "source": [
    "# Assignment 1 Ques 7\n",
    "\n",
    "import numpy\n",
    "\n",
    "arr=[6,9,1,7,3,15,12,26,19,34,52,33,47,62,22] \n",
    "\n",
    "x=numpy.array(arr)      \n",
    "index=numpy.argsort(x)               # 'index' will store the indices of sorted array\n",
    "sorted=numpy.sort(x)                 # 'sorted' will store the array sorted in ascending order\n",
    "  \n",
    "\n",
    "print(\"Unsorted array:\\n\")\n",
    "print(x)\n",
    "\n",
    "print(\"\\nSorted Array:\\n\")\n",
    "print(sorted)\n",
    "\n",
    "print(\"\\nSorted indices:\\n\")\n",
    "print(index)\n"
   ]
  },
  {
   "cell_type": "code",
   "execution_count": null,
   "id": "76d9bec6",
   "metadata": {},
   "outputs": [],
   "source": []
  }
 ],
 "metadata": {
  "kernelspec": {
   "display_name": "Python 3",
   "language": "python",
   "name": "python3"
  },
  "language_info": {
   "codemirror_mode": {
    "name": "ipython",
    "version": 3
   },
   "file_extension": ".py",
   "mimetype": "text/x-python",
   "name": "python",
   "nbconvert_exporter": "python",
   "pygments_lexer": "ipython3",
   "version": "3.8.8"
  }
 },
 "nbformat": 4,
 "nbformat_minor": 5
}
