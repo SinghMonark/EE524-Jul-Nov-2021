{
 "cells": [
  {
   "cell_type": "code",
   "execution_count": 3,
   "id": "5fd9ac69",
   "metadata": {},
   "outputs": [
    {
     "name": "stdout",
     "output_type": "stream",
     "text": [
      "Unsorted Array is:\n",
      "\n",
      "[6, 9, 1, 7, 3, 15, 12, 26, 19, 34, 52, 33, 47, 62, 22]\n",
      "\n",
      "Sorted Array is:\n",
      "\n",
      "[62, 52, 47, 34, 33, 26, 22, 19, 15, 12, 9, 7, 6, 3, 1]\n",
      "\n",
      "Sorted Indices are:\n",
      "\n",
      "[13, 10, 12, 9, 11, 7, 14, 8, 5, 6, 1, 3, 0, 4, 2]\n"
     ]
    }
   ],
   "source": [
    "# Assignment 1 Ques 6\n",
    "\n",
    "arr=[6,9,1,7,3,15,12,26,19,34,52,33,47,62,22]     # Creating a list of length 15\n",
    "unsorted=[]\n",
    "index=[]\n",
    "\n",
    "# Storing the original list in 'unsorted' list\n",
    "\n",
    "for k in range(len(arr)):\n",
    "    unsorted.append(arr[k])\n",
    "\n",
    "# Defining function to carry out Bubble Sort\n",
    "\n",
    "def BubbleSort(arr):\n",
    "    n=len(arr)\n",
    "    \n",
    "    for i in range(n):\n",
    "        \n",
    "        for j in range(0,n-i-1):\n",
    "            \n",
    "            if arr[j]<arr[j+1]:\n",
    "                \n",
    "                arr[j],arr[j+1]=arr[j+1],arr[j]\n",
    "        \n",
    "\n",
    "BubbleSort(arr)       # Calling the Bubble Sort function\n",
    "\n",
    "# Using for loop to store the indices of unsorted list in 'index' list\n",
    "\n",
    "for l in range(len(arr)):\n",
    "    for m in range(len(arr)):\n",
    "        if arr[l]==unsorted[m]:\n",
    "            index.append(m)\n",
    "\n",
    "print(\"Unsorted Array is:\\n\")\n",
    "print(unsorted)\n",
    "\n",
    "print(\"\\nSorted Array is:\\n\")\n",
    "print(arr)\n",
    "\n",
    "print(\"\\nSorted Indices are:\\n\")\n",
    "print(index)\n"
   ]
  },
  {
   "cell_type": "code",
   "execution_count": null,
   "id": "c196f6b7",
   "metadata": {},
   "outputs": [],
   "source": []
  }
 ],
 "metadata": {
  "kernelspec": {
   "display_name": "Python 3",
   "language": "python",
   "name": "python3"
  },
  "language_info": {
   "codemirror_mode": {
    "name": "ipython",
    "version": 3
   },
   "file_extension": ".py",
   "mimetype": "text/x-python",
   "name": "python",
   "nbconvert_exporter": "python",
   "pygments_lexer": "ipython3",
   "version": "3.8.8"
  }
 },
 "nbformat": 4,
 "nbformat_minor": 5
}
