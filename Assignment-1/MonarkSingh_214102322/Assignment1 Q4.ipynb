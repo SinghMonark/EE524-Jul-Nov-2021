{
 "cells": [
  {
   "cell_type": "code",
   "execution_count": 2,
   "id": "9272e624",
   "metadata": {},
   "outputs": [
    {
     "name": "stdout",
     "output_type": "stream",
     "text": [
      "Enter value of a 1\n",
      "Enter value of b 26\n",
      "Prime numbers in the interval [1,26] are:\n",
      "2\n",
      "3\n",
      "5\n",
      "7\n",
      "11\n",
      "13\n",
      "17\n",
      "19\n",
      "23\n"
     ]
    }
   ],
   "source": [
    "# Assignment 1 Ques 4\n",
    "\n",
    "a=int(input(\"Enter value of a \"))   # User input value of a\n",
    "b=int(input(\"Enter value of b \"))   # User input value of b\n",
    "\n",
    "# Define a funtion to check whether a number is prime or not\n",
    "# Function returns '1' if a no is prime and '0' if it is not prime \n",
    "\n",
    "def prime(num):       \n",
    "    c=num-1           \n",
    "    if c<1:\n",
    "        return 0\n",
    "    while c>1:\n",
    "        if num%c==0:\n",
    "            return 0\n",
    "        else:\n",
    "            c=c-1\n",
    "    return 1\n",
    "\n",
    "num=a\n",
    "print(f\"Prime numbers in the interval [{a},{b}] are:\")\n",
    "\n",
    "while num<=b:           # While loop to check which nos are prime in [a,b]\n",
    "    e=prime(num)        # Caling the prime function\n",
    "    if e==1:\n",
    "        print(num)      # Printing all prime nos\n",
    "        num=num+1\n",
    "    else:\n",
    "        num=num+1\n",
    "        "
   ]
  },
  {
   "cell_type": "code",
   "execution_count": null,
   "id": "c4a70413",
   "metadata": {},
   "outputs": [],
   "source": []
  }
 ],
 "metadata": {
  "kernelspec": {
   "display_name": "Python 3",
   "language": "python",
   "name": "python3"
  },
  "language_info": {
   "codemirror_mode": {
    "name": "ipython",
    "version": 3
   },
   "file_extension": ".py",
   "mimetype": "text/x-python",
   "name": "python",
   "nbconvert_exporter": "python",
   "pygments_lexer": "ipython3",
   "version": "3.8.8"
  }
 },
 "nbformat": 4,
 "nbformat_minor": 5
}
