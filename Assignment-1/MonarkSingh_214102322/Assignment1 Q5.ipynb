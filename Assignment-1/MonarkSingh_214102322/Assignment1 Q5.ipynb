{
 "cells": [
  {
   "cell_type": "code",
   "execution_count": 3,
   "id": "40eda27d",
   "metadata": {},
   "outputs": [
    {
     "name": "stdout",
     "output_type": "stream",
     "text": [
      "Enter value of a 17\n",
      "Enter value of b 23\n",
      "LCM of 17 and 23 is 391\n"
     ]
    }
   ],
   "source": [
    "# Assignment 1 Ques 5\n",
    "\n",
    "a=int(input(\"Enter value of a \"))   # User input value of a\n",
    "b=int(input(\"Enter value of b \"))   # User input value of b\n",
    "\n",
    "i=1\n",
    "\n",
    "if a>b:                             # Finding greater of a and b\n",
    "    num=a\n",
    "else:\n",
    "    num=b\n",
    "   \n",
    "ans=num*i\n",
    "condition=1\n",
    "\n",
    "while condition==1:                 # Finding the LCM of a and b\n",
    "    if ans%a==0 and ans%b==0:                    \n",
    "        print(f\"LCM of {a} and {b} is {ans}\")\n",
    "        condition=0\n",
    "    else:\n",
    "        i=i+1\n",
    "        ans=num*i"
   ]
  },
  {
   "cell_type": "code",
   "execution_count": null,
   "id": "c04996b7",
   "metadata": {},
   "outputs": [],
   "source": []
  }
 ],
 "metadata": {
  "kernelspec": {
   "display_name": "Python 3",
   "language": "python",
   "name": "python3"
  },
  "language_info": {
   "codemirror_mode": {
    "name": "ipython",
    "version": 3
   },
   "file_extension": ".py",
   "mimetype": "text/x-python",
   "name": "python",
   "nbconvert_exporter": "python",
   "pygments_lexer": "ipython3",
   "version": "3.8.8"
  }
 },
 "nbformat": 4,
 "nbformat_minor": 5
}
