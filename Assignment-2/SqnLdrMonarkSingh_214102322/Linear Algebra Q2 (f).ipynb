{
 "cells": [
  {
   "cell_type": "code",
   "execution_count": 12,
   "id": "f0d82b32",
   "metadata": {
    "collapsed": true
   },
   "outputs": [
    {
     "name": "stdout",
     "output_type": "stream",
     "text": [
      "The Covariance Matrix is: \n",
      "\n",
      " [[0.68, -0.04, 1.27, 0.51], [-0.04, 0.19, -0.32, -0.12], [1.27, -0.32, 3.09, 1.29], [0.51, -0.12, 1.29, 0.58]]\n",
      "\n",
      "\n",
      "Eigen values and their corresponding eigen vectors in descending order are: \n",
      "\n",
      "λ1= 4.198715956159168 , V1= [ 0.36202767 -0.6472856  -0.5739092   0.34725431]\n",
      "\n",
      "\n",
      "λ2= 0.24074854940426005 , V2= [-0.08271233 -0.7385743   0.59071732 -0.31419696]\n",
      "\n",
      "\n",
      "λ3= 0.080023104999453 , V3= [ 0.85627488  0.16174529  0.06339948 -0.48642811]\n",
      "\n",
      "\n",
      "λ4= 0.0205123894371218 , V4= [0.35900971 0.09678754 0.56361493 0.73761942]\n",
      "\n",
      "\n"
     ]
    }
   ],
   "source": [
    "# Assignment 2 Ques 2(f)\n",
    "\n",
    "import csv\n",
    "import numpy as np\n",
    "\n",
    "# Initialising the Matrices\n",
    "rows=[]\n",
    "Mean=[]\n",
    "M = [0 for i in range(4)]\n",
    "X= [[0 for i in range(4)] for j in range(150)]\n",
    "XT= [[0 for i in range(150)] for j in range(4)]\n",
    "Cov= [[0 for i in range(4)] for j in range(4)]\n",
    "\n",
    "csvfile=open('Iris.csv', 'r')\n",
    "csvreader = csv.reader(csvfile)\n",
    "\n",
    "# Reading the CSV file 'Iris' to a matrix\n",
    "\n",
    "features = next(csvreader)\n",
    "for row in csvreader:\n",
    "    rows.append(row)\n",
    "    \n",
    "\n",
    "for i in range(4):\n",
    "    for j in range(150):\n",
    "        M[i] = M[i] + float(rows[j][i])\n",
    "        \n",
    "for m in M:\n",
    "    Mean.append(round(m/150,2))       # Computing The Mean Vector\n",
    "\n",
    "for i in range(150):\n",
    "    for j in range(4):\n",
    "        X[i][j] = float(rows[i][j]) - Mean[j]\n",
    "\n",
    "\n",
    "for i in range(4):\n",
    "    for j in range(150):\n",
    "        XT[i][j] = X[j][i]\n",
    "        \n",
    "\n",
    "Prod=np.dot(XT,X)\n",
    "\n",
    "# Computing Covariance Matrix\n",
    "for i in range(4):\n",
    "    for j in range(4):\n",
    "        Cov[i][j]=round(Prod[i][j]/150,2)\n",
    "\n",
    "print(\"The Covariance Matrix is: \\n\\n\",Cov)\n",
    "\n",
    "# Computing the Eigen Vectors and Eigen Values\n",
    "w, v = np.linalg.eig(Cov)\n",
    "\n",
    "# Computing the indices of sorted Eigen Vectors\n",
    "index = np.argsort(w)[::-1]\n",
    "\n",
    "# Printing Eigen values and their correspnding eigen vectors in descending order\n",
    "\n",
    "print(\"\\n\\nEigen values and their corresponding eigen vectors in descending order are: \\n\")\n",
    "for i in range(4):\n",
    "    print(f\"λ{i+1}= {w[index[i]]} , V{i+1}= {v[index[i]]}\")\n",
    "    print('\\n')\n",
    "\n",
    "# Closing the file\n",
    "csvfile.close()\n"
   ]
  },
  {
   "cell_type": "code",
   "execution_count": null,
   "id": "d0c7788e",
   "metadata": {},
   "outputs": [],
   "source": []
  }
 ],
 "metadata": {
  "kernelspec": {
   "display_name": "Python 3",
   "language": "python",
   "name": "python3"
  },
  "language_info": {
   "codemirror_mode": {
    "name": "ipython",
    "version": 3
   },
   "file_extension": ".py",
   "mimetype": "text/x-python",
   "name": "python",
   "nbconvert_exporter": "python",
   "pygments_lexer": "ipython3",
   "version": "3.8.8"
  }
 },
 "nbformat": 4,
 "nbformat_minor": 5
}
